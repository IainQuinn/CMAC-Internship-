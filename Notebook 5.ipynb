{
 "cells": [
  {
   "cell_type": "code",
   "execution_count": 1,
   "metadata": {},
   "outputs": [],
   "source": [
    "#importing Libraries\n",
    "\n",
    "import matplotlib.pyplot as plt\n",
    "import numpy as np\n",
    "import pandas as pd\n",
    "import sklearn.linear_model\n",
    "import seaborn as sns\n",
    "from sklearn.metrics import r2_score"
   ]
  },
  {
   "cell_type": "code",
   "execution_count": 2,
   "metadata": {},
   "outputs": [],
   "source": [
    "#Reading the data\n",
    "\n",
    "data = pd.read_csv(\"//Users/iainquinn/Crystalisation Internship/Data/DataRaw.csv\")\n",
    "\n",
    "#Making four new columns\n",
    "\n",
    "data['ln_t_ind'] = np.log(data['induction_time'])\n",
    "data['ln_S'] = np.log(data['Supersaturation'])\n",
    "data['ln_(S-1)'] = np.log(data['Supersaturation']-1)\n",
    "data['1/S'] = 1/(data['Supersaturation'])\n",
    "\n",
    "#making two new datasets\n",
    "\n",
    "data_antisolvent = data.loc[data.Method == \"Antisolvent\"]\n",
    "data_cooling = data.loc[data.Method == \"Cooling\"]"
   ]
  },
  {
   "cell_type": "code",
   "execution_count": 4,
   "metadata": {},
   "outputs": [],
   "source": [
    "#Making lists of each unique molecule, source and solvent in the dataset\n",
    "\n",
    "molecule_list = data.Molecule.unique()\n",
    "molecule_list_antisolvent = data_antisolvent.Molecule.unique()\n",
    "molecule_list_cooling = data_cooling.Molecule.unique()\n",
    "\n",
    "source_list = data.Source.unique()\n",
    "source_list_antisolvent = data_antisolvent.Source.unique()\n",
    "source_list_cooling = data_cooling.Source.unique()\n",
    "\n",
    "solvent_list= data.solvent.unique()\n",
    "solvent_list_antisolvent = data_antisolvent.solvent.unique()\n",
    "solvent_list_cooling = data_cooling.solvent.unique()"
   ]
  },
  {
   "cell_type": "code",
   "execution_count": 5,
   "metadata": {},
   "outputs": [],
   "source": [
    "#Transforming dataframe to  a simplified dataframe\n",
    "\n",
    "method_1, method_2, method_3 = [], [], []\n",
    "score_1, score_2, score_3 = [], [], []\n",
    "slope_1, slope_2, slope_3 = [], [], []\n",
    "intercept_1, intercept_2, intercept_3 = [], [], []\n",
    "molecules_1, molecules_2, molecules_3=[],[],[]\n",
    "\n",
    "\n",
    "for molecule in molecule_list_antisolvent:\n",
    "    data_set=data_antisolvent.loc[data_antisolvent.Molecule == molecule]\n",
    "    Y = np.c_[data_set[\"ln_t_ind\"]]\n",
    "    X = np.c_[data_set[\"ln_S\"]]\n",
    "    model = sklearn.linear_model.LinearRegression()\n",
    "    model.fit(X, Y)\n",
    "    prediction=model.predict(X)\n",
    "    method_1.append(\"antisolvent\")\n",
    "    molecules_1.append(molecule)\n",
    "    score_1.append(r2_score(Y, prediction))\n",
    "    slope_1.append(float(model.coef_))\n",
    "    intercept_1.append(float(model.intercept_))\n",
    "    \n",
    "    Y = np.c_[data_set[\"ln_t_ind\"]]\n",
    "    X = np.c_[data_set[\"ln_(S-1)\"]]\n",
    "    model = sklearn.linear_model.LinearRegression()\n",
    "    model.fit(X, Y)\n",
    "    prediction=model.predict(X)\n",
    "    method_2.append(\"antisolvent\")\n",
    "    molecules_2.append(molecule)\n",
    "    score_2.append(r2_score(Y, prediction))\n",
    "    slope_2.append(float(model.coef_))\n",
    "    intercept_2.append(float(model.intercept_))\n",
    "       \n",
    "    Y = np.c_[data_set[\"ln_t_ind\"]]\n",
    "    X = np.c_[data_set[\"1/S\"]]\n",
    "    model = sklearn.linear_model.LinearRegression()\n",
    "    model.fit(X, Y)\n",
    "    prediction=model.predict(X)\n",
    "    method_3.append(\"antisolvent\")\n",
    "    molecules_3.append(molecule)\n",
    "    score_3.append(r2_score(Y, prediction))\n",
    "    slope_3.append(float(model.coef_))\n",
    "    intercept_3.append(float(model.intercept_))\n",
    "    \n",
    "for molecule in molecule_list_cooling:\n",
    "    data_set=data_cooling.loc[data_cooling.Molecule == molecule]\n",
    "    Y = np.c_[data_set[\"ln_t_ind\"]]\n",
    "    X = np.c_[data_set[\"ln_S\"]]\n",
    "    model = sklearn.linear_model.LinearRegression()\n",
    "    model.fit(X, Y)\n",
    "    prediction=model.predict(X)\n",
    "    method_1.append(\"cooling\")\n",
    "    molecules_1.append(molecule)\n",
    "    score_1.append(r2_score(Y, prediction))\n",
    "    slope_1.append(float(model.coef_))\n",
    "    intercept_1.append(float(model.intercept_))\n",
    "    \n",
    "    Y = np.c_[data_set[\"ln_t_ind\"]]\n",
    "    X = np.c_[data_set[\"ln_(S-1)\"]]\n",
    "    model = sklearn.linear_model.LinearRegression()\n",
    "    model.fit(X, Y)\n",
    "    prediction=model.predict(X)\n",
    "    method_2.append(\"cooling\")\n",
    "    molecules_2.append(molecule)\n",
    "    score_2.append(r2_score(Y, prediction))\n",
    "    slope_2.append(float(model.coef_))\n",
    "    intercept_2.append(float(model.intercept_))\n",
    "       \n",
    "    Y = np.c_[data_set[\"ln_t_ind\"]]\n",
    "    X = np.c_[data_set[\"1/S\"]]\n",
    "    model = sklearn.linear_model.LinearRegression()\n",
    "    model.fit(X, Y)\n",
    "    prediction=model.predict(X)\n",
    "    method_3.append(\"cooling\")\n",
    "    molecules_3.append(molecule)\n",
    "    score_3.append(r2_score(Y, prediction))\n",
    "    slope_3.append(float(model.coef_))\n",
    "    intercept_3.append(float(model.intercept_))\n",
    "    \n",
    "molecule_df_1 = pd.DataFrame(list(zip(method_1, molecules_1, slope_1, intercept_1, score_1)) , columns=['method','molecule','slope', 'intercept', 'r2'])\n",
    "molecule_df_2 = pd.DataFrame(list(zip(method_2, molecules_2, slope_2, intercept_2, score_2)) , columns=['method','molecule','slope', 'intercept', 'r2'])\n",
    "molecule_df_3 = pd.DataFrame(list(zip(method_3, molecules_3, slope_3, intercept_3, score_3)) , columns=['method','molecule','slope', 'intercept', 'r2'])"
   ]
  },
  {
   "cell_type": "code",
   "execution_count": 9,
   "metadata": {},
   "outputs": [],
   "source": [
    "molecule_antisolvent_df_1 = molecule_df_1.loc[molecule_df_1.method == 'antisolvent']\n",
    "molecule_cooling_df_1 = molecule_df_1.loc[molecule_df_1.method == 'cooling']\n",
    "\n",
    "molecule_antisolvent_df_2 = molecule_df_2.loc[molecule_df_2.method == 'antisolvent']\n",
    "molecule_cooling_df_2 = molecule_df_2.loc[molecule_df_2.method == 'cooling']\n",
    "\n",
    "molecule_antisolvent_df_3 = molecule_df_3.loc[molecule_df_3.method == 'antisolvent']\n",
    "molecule_cooling_df_3 = molecule_df_3.loc[molecule_df_3.method == 'cooling']"
   ]
  },
  {
   "cell_type": "code",
   "execution_count": 36,
   "metadata": {},
   "outputs": [
    {
     "data": {
      "image/png": "[encoded data removed]",
      "text/plain": [
       "<Figure size 504x360 with 2 Axes>"
      ]
     },
     "metadata": {
      "needs_background": "light"
     },
     "output_type": "display_data"
    }
   ],
   "source": [
    "molecule_antisolvent_df_1.plot(kind= 'scatter', x=\"slope\", y= \"intercept\",c=\"r2\",colorbar=True, alpha = 0.9, \n",
    "                               cmap=plt.get_cmap(\"jet\"), figsize=(7,5), title =\"(Antisolvent-Molecule)\")\n",
    "plt.xlabel(\"Slope\")\n",
    "plt.ylabel(\"Y-Intercept\")\n",
    "plt.savefig(\"/Users/iainquinn/Crystalisation Internship/\" +'hi.png')"
   ]
  },
  {
   "cell_type": "code",
   "execution_count": null,
   "metadata": {},
   "outputs": [],
   "source": []
  }
 ],
 "metadata": {
  "kernelspec": {
   "display_name": "Python 3",
   "language": "python",
   "name": "python3"
  },
  "language_info": {
   "codemirror_mode": {
    "name": "ipython",
    "version": 3
   },
   "file_extension": ".py",
   "mimetype": "text/x-python",
   "name": "python",
   "nbconvert_exporter": "python",
   "pygments_lexer": "ipython3",
   "version": "3.8.8"
  }
 },
 "nbformat": 4,
 "nbformat_minor": 2
}
