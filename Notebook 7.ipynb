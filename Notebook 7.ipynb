{
 "cells": [
  {
   "cell_type": "code",
   "execution_count": 1,
   "metadata": {},
   "outputs": [],
   "source": [
    "#importing Libraries\n",
    "\n",
    "import matplotlib.pyplot as plt\n",
    "import numpy as np\n",
    "import pandas as pd\n",
    "import sklearn.linear_model\n",
    "import seaborn as sns\n",
    "from sklearn.metrics import r2_score"
   ]
  },
  {
   "cell_type": "code",
   "execution_count": 2,
   "metadata": {},
   "outputs": [],
   "source": [
    "#Reading the data & dropping uneeded columns\n",
    "\n",
    "data = pd.read_csv(\"/Users/iainquinn/Crystalisation Internship/Data/DataRaw.csv\")\n",
    "data = data[[ \"Smiles\", \"Source\", \"Method\", \"Molecule\", \"solvent\",\"induction_time\" ,\"Supersaturation\"]].copy()\n",
    "\n",
    "#Making two new columns\n",
    "\n",
    "data['ln_t'] = np.log(data['induction_time'])\n",
    "data['ln_(S-1)'] = np.log(data['Supersaturation']-1)\n",
    "\n",
    "moleculesource_lst=[]\n",
    "\n",
    "for index, row in data.iterrows():\n",
    "    moleculesource_lst.append(row['Molecule'] + ' ' + row['Source'])\n",
    "data['molecule_source'] = moleculesource_lst\n",
    "\n",
    "#making two new datasets\n",
    "\n",
    "data_anti = data.loc[data.Method == \"Antisolvent\"]\n",
    "data_cool = data.loc[data.Method == \"Cooling\"]\n",
    "\n",
    "#Showing the simplified data\n",
    "#data.head()"
   ]
  },
  {
   "cell_type": "code",
   "execution_count": 3,
   "metadata": {},
   "outputs": [],
   "source": [
    "#Increasing the resolution of the figures\n",
    "\n",
    "sns.set(rc={\"figure.dpi\":400, 'savefig.dpi':800})\n"
   ]
  },
  {
   "cell_type": "code",
   "execution_count": 4,
   "metadata": {},
   "outputs": [],
   "source": [
    "#Making lists of each unique molecule, source and solvent in the dataset\n",
    "\n",
    "molecule_list = data.Molecule.unique()\n",
    "molecule_list_anti = data_anti.Molecule.unique()\n",
    "molecule_list_cool = data_cool.Molecule.unique()\n",
    "\n",
    "source_list = data.Source.unique()\n",
    "source_list_anti = data_anti.Source.unique()\n",
    "source_list_cooling = data_cool.Source.unique()\n",
    "\n",
    "solvent_list= data.solvent.unique()\n",
    "solvent_list_anti = data_anti.solvent.unique()\n",
    "solvent_list_cool = data_cool.solvent.unique()\n",
    "\n",
    "molsource_list = np.unique(moleculesource_lst)\n",
    "molsource_list_anti = data_anti.molecule_source.unique()\n",
    "molsource_list_cool = data_cool.molecule_source.unique()"
   ]
  },
  {
   "cell_type": "code",
   "execution_count": null,
   "metadata": {},
   "outputs": [],
   "source": [
    "#Creating & saving figures of each linear regression plot\n",
    "\n",
    "for entry in molsource_list_cool:\n",
    "    plot = sns.lmplot(y=(\"ln_t\"), x=(\"ln_(S-1)\"), height=(4),\n",
    "               data=data.loc[data.molecule_source == entry]).set(title=entry)\n",
    "    plot.savefig(\"/Users/iainquinn/Crystalisation Internship/Figures/Molecule-Source Figs/Cool/\" + entry +'.png')"
   ]
  },
  {
   "cell_type": "code",
   "execution_count": 5,
   "metadata": {},
   "outputs": [],
   "source": [
    "molecules_source=[]\n",
    "score=[]\n",
    "slope=[]\n",
    "intercept=[]\n",
    "median=[]\n",
    "method=[]\n",
    "\n",
    "for entry in molsource_list_anti:\n",
    "    data_set = data.loc[data.molecule_source == entry]\n",
    "    Y = np.c_[data_set[\"ln_t\"]]\n",
    "    X = np.c_[data_set[\"ln_(S-1)\"]]\n",
    "    model = sklearn.linear_model.LinearRegression()\n",
    "    model.fit(X, Y)\n",
    "    prediction=model.predict(X)\n",
    "    molecules_source.append(entry)\n",
    "    score.append(r2_score(Y, prediction))\n",
    "    slope.append(float(model.coef_))\n",
    "    intercept.append(float(model.intercept_))\n",
    "    median.append(data_set[\"Supersaturation\"].median())\n",
    "    method.append('antisolvent')\n",
    "    \n",
    "df_anti = pd.DataFrame(list(zip( molecules_source, slope, intercept, score, median, method)) , columns=['molecule_source','slope', 'intercept', 'r2','median', 'method'])\n",
    "\n",
    "molecules_source=[]\n",
    "score=[]\n",
    "slope=[]\n",
    "intercept=[]\n",
    "median=[]\n",
    "method=[]\n",
    "\n",
    "for entry in molsource_list_cool:\n",
    "    data_set = data.loc[data.molecule_source == entry]\n",
    "    Y = np.c_[data_set[\"ln_t\"]]\n",
    "    X = np.c_[data_set[\"ln_(S-1)\"]]\n",
    "    model = sklearn.linear_model.LinearRegression()\n",
    "    model.fit(X, Y)\n",
    "    prediction=model.predict(X)\n",
    "    molecules_source.append(entry)\n",
    "    score.append(r2_score(Y, prediction))\n",
    "    slope.append(float(model.coef_))\n",
    "    intercept.append(float(model.intercept_))\n",
    "    median.append(data_set[\"Supersaturation\"].median())\n",
    "    method.append('cooling')\n",
    "    \n",
    "df_cool = pd.DataFrame(list(zip( molecules_source, slope, intercept, score, median, method)) , columns=['molecule_source','slope', 'intercept', 'r2','median', 'method'])\n",
    "\n",
    "df = pd.concat([df_anti, df_cool], ignore_index=True)\n"
   ]
  },
  {
   "cell_type": "code",
   "execution_count": null,
   "metadata": {},
   "outputs": [],
   "source": [
    "df.plot(kind= 'scatter', x=\"slope\", y= \"median\",c=\"r2\",colorbar=True, alpha = 0.9, \n",
    "                               cmap=plt.get_cmap(\"jet\"), figsize=(7,5))\n",
    "plt.ylabel(\"Median Supersaturation\")\n",
    "plt.xlabel(\"Slope\")\n",
    "plt.title('Molecule & Source')\n",
    "plt.savefig('/Users/iainquinn/Crystalisation Internship/Figures/Molecule-Source Figs/' +'figure.png')"
   ]
  },
  {
   "cell_type": "code",
   "execution_count": 6,
   "metadata": {},
   "outputs": [],
   "source": [
    "df_poor = df.loc[df.r2 < 0.5]\n",
    "df_good = df.loc[df.r2 > 0.5]"
   ]
  },
  {
   "cell_type": "code",
   "execution_count": 7,
   "metadata": {},
   "outputs": [],
   "source": [
    "poor_graphs = df_poor['molecule_source'].tolist()\n",
    "good_graphs = df_good['molecule_source'].tolist()"
   ]
  },
  {
   "cell_type": "code",
   "execution_count": null,
   "metadata": {},
   "outputs": [],
   "source": [
    "poor_graphs = df_poor['molecule_source'].tolist()\n",
    "\n",
    "for entry in poor_graphs:\n",
    "    plot = sns.lmplot(y=(\"ln_t\"), x=(\"ln_(S-1)\"), height=(4),\n",
    "               data=data.loc[data.molecule_source == entry]).set(title=entry)\n",
    "    plot.savefig(\"/Users/iainquinn/Crystalisation Internship/Figures/Poor Graphs/\" + entry +'.png')"
   ]
  },
  {
   "cell_type": "code",
   "execution_count": null,
   "metadata": {},
   "outputs": [],
   "source": []
  }
 ],
 "metadata": {
  "kernelspec": {
   "display_name": "Python 3",
   "language": "python",
   "name": "python3"
  },
  "language_info": {
   "codemirror_mode": {
    "name": "ipython",
    "version": 3
   },
   "file_extension": ".py",
   "mimetype": "text/x-python",
   "name": "python",
   "nbconvert_exporter": "python",
   "pygments_lexer": "ipython3",
   "version": "3.8.8"
  }
 },
 "nbformat": 4,
 "nbformat_minor": 2
}
