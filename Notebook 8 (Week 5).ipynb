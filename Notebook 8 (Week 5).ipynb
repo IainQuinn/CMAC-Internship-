{
 "cells": [
  {
   "cell_type": "code",
   "execution_count": 1,
   "metadata": {},
   "outputs": [],
   "source": [
    "#importing Libraries\n",
    "\n",
    "import matplotlib.pyplot as plt\n",
    "import numpy as np\n",
    "import pandas as pd\n",
    "import sklearn.linear_model\n",
    "import seaborn as sns\n",
    "from sklearn.metrics import r2_score\n",
    "import pprint\n",
    "from rdkit import Chem"
   ]
  },
  {
   "cell_type": "code",
   "execution_count": null,
   "metadata": {},
   "outputs": [],
   "source": [
    "#Reading the data & dropping uneeded columns\n",
    "\n",
    "data = pd.read_csv(\"/Users/iainquinn/Crystalisation Internship/Data/DataRaw.csv\")\n",
    "data = data[[ \"smiles\", \"Source\", \"Method\", \"Molecule\", \"solvent\",\"induction_time\" ,\"Supersaturation\"]].copy()\n",
    "\n",
    "#Making two new columns\n",
    "\n",
    "data['ln_t'] = np.log(data['induction_time'])\n",
    "data['ln_(S-1)'] = np.log(data['Supersaturation']-1)\n",
    "\n",
    "#Adding a new column called molecule-source\n",
    "\n",
    "moleculesource_lst=[]\n",
    "\n",
    "for index, row in data.iterrows():\n",
    "    moleculesource_lst.append(row['Molecule'] + ' ' + row['Source'])\n",
    "data['molecule_source'] = moleculesource_lst\n",
    "\n",
    "#making two new datasets\n",
    "\n",
    "data_anti = data.loc[data.Method == \"Antisolvent\"]\n",
    "data_cool = data.loc[data.Method == \"Cooling\"]\n",
    "\n",
    "#Showing the simplified data\n",
    "data.head()"
   ]
  },
  {
   "cell_type": "code",
   "execution_count": null,
   "metadata": {},
   "outputs": [],
   "source": [
    "#Making lists of each unique molecule in the datasheet\n",
    "\n",
    "molecule_list = data.Molecule.unique()\n",
    "molecule_list_anti = data_anti.Molecule.unique()\n",
    "molecule_list_cool = data_cool.Molecule.unique()\n",
    "\n",
    "#Making a list of each unique molecule-source object in the datasheet\n",
    "\n",
    "molsource_list = np.unique(moleculesource_lst)\n",
    "molsource_list_anti = data_anti.molecule_source.unique()\n",
    "molsource_list_cool = data_cool.molecule_source.unique()"
   ]
  },
  {
   "cell_type": "code",
   "execution_count": null,
   "metadata": {},
   "outputs": [],
   "source": [
    "molecules_source=[]\n",
    "score=[]\n",
    "slope=[]\n",
    "intercept=[]\n",
    "median=[]\n",
    "method=[]\n",
    "smiles=[]\n",
    "\n",
    "for entry in molsource_list_anti:\n",
    "    data_set = data.loc[data.molecule_source == entry]\n",
    "    Y = np.c_[data_set[\"ln_t\"]]\n",
    "    X = np.c_[data_set[\"ln_(S-1)\"]]\n",
    "    model = sklearn.linear_model.LinearRegression()\n",
    "    model.fit(X, Y)\n",
    "    prediction=model.predict(X)\n",
    "    molecules_source.append(entry)\n",
    "    score.append(r2_score(Y, prediction))\n",
    "    slope.append(float(model.coef_))\n",
    "    intercept.append(float(model.intercept_))\n",
    "    median.append(data_set[\"Supersaturation\"].median())\n",
    "    method.append('antisolvent')\n",
    "    smiles.append(str(data_set.smiles.unique()))\n",
    "    \n",
    "df_anti = pd.DataFrame(list(zip( molecules_source, slope, intercept, score, median, method, smiles)) , columns=['molecule_source','slope', 'intercept', 'r2','median', 'method', 'smiles'])\n",
    "\n",
    "molecules_source=[]\n",
    "score=[]\n",
    "slope=[]\n",
    "intercept=[]\n",
    "median=[]\n",
    "method=[]\n",
    "smiles=[]\n",
    "\n",
    "for entry in molsource_list_cool:\n",
    "    data_set = data.loc[data.molecule_source == entry]\n",
    "    Y = np.c_[data_set[\"ln_t\"]]\n",
    "    X = np.c_[data_set[\"ln_(S-1)\"]]\n",
    "    model = sklearn.linear_model.LinearRegression()\n",
    "    model.fit(X, Y)\n",
    "    prediction=model.predict(X)\n",
    "    molecules_source.append(entry)\n",
    "    score.append(r2_score(Y, prediction))\n",
    "    slope.append(float(model.coef_))\n",
    "    intercept.append(float(model.intercept_))\n",
    "    median.append(data_set[\"Supersaturation\"].median())\n",
    "    method.append('cooling')\n",
    "    smiles.append(str(data_set.smiles.unique()))\n",
    "    \n",
    "df_cool = pd.DataFrame(list(zip( molecules_source, slope, intercept, score, median, method, smiles)) , columns=['molecule_source','slope', 'intercept', 'r2','median', 'method', 'smiles'])\n",
    "\n",
    "df = pd.concat([df_anti, df_cool], ignore_index=True)\n",
    "df.head(50)\n"
   ]
  },
  {
   "cell_type": "code",
   "execution_count": null,
   "metadata": {},
   "outputs": [],
   "source": [
    "#Splitting the dataset into two based on how good the R2 value is\n",
    "\n",
    "df_poor = df.loc[df.r2 < 0.5]\n",
    "df_good = df.loc[df.r2 > 0.5]\n",
    "\n",
    "#Making a list of the molecule-source in each dataset\n",
    "\n",
    "poor_list = df_poor['molecule_source'].tolist()\n",
    "good_list = df_good['molecule_source'].tolist()"
   ]
  },
  {
   "cell_type": "code",
   "execution_count": null,
   "metadata": {},
   "outputs": [],
   "source": [
    "#Making a list of all smiles\n",
    "smiles_list=df_good.smiles.tolist()\n",
    "pprint.pprint(smiles_list)"
   ]
  },
  {
   "cell_type": "code",
   "execution_count": null,
   "metadata": {},
   "outputs": [],
   "source": [
    "m = Chem.MolFromSmiles('CC(C)OC(=O)C1=NC=C2C(=C1COC)C3=C(N2)C=CC(=C3)OCC4=CC=CC=C4')\n",
    "m"
   ]
  },
  {
   "cell_type": "code",
   "execution_count": null,
   "metadata": {},
   "outputs": [],
   "source": []
  }
 ],
 "metadata": {
  "kernelspec": {
   "display_name": "Python 3",
   "language": "python",
   "name": "python3"
  },
  "language_info": {
   "codemirror_mode": {
    "name": "ipython",
    "version": 3
   },
   "file_extension": ".py",
   "mimetype": "text/x-python",
   "name": "python",
   "nbconvert_exporter": "python",
   "pygments_lexer": "ipython3",
   "version": "3.7.4"
  }
 },
 "nbformat": 4,
 "nbformat_minor": 2
}
