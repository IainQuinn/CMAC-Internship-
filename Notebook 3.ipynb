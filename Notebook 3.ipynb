{
 "cells": [
  {
   "cell_type": "code",
   "execution_count": 1,
   "metadata": {},
   "outputs": [],
   "source": [
    "#importing Libraries\n",
    "\n",
    "import matplotlib.pyplot as plt\n",
    "import numpy as np\n",
    "import pandas as pd\n",
    "import sklearn.linear_model\n",
    "import seaborn as sns\n",
    "from sklearn.metrics import r2_score\n",
    "import pprint"
   ]
  },
  {
   "cell_type": "code",
   "execution_count": 2,
   "metadata": {},
   "outputs": [],
   "source": [
    "#Reading the data\n",
    "\n",
    "data = pd.read_csv(\"//Users/iainquinn/Crystalisation Internship/Data/DataRaw.csv\")\n",
    "\n",
    "#Making four new columns\n",
    "\n",
    "data['ln_t_ind'] = np.log(data['induction_time'])\n",
    "data['ln_S'] = np.log(data['Supersaturation'])\n",
    "data['ln_(S-1)'] = np.log(data['Supersaturation']-1)\n",
    "data['1/S'] = 1/(data['Supersaturation'])\n",
    "\n",
    "#making two new datasets\n",
    "\n",
    "data_antisolvent = data.loc[data.Method == \"Antisolvent\"]\n",
    "data_cooling = data.loc[data.Method == \"Cooling\"]"
   ]
  },
  {
   "cell_type": "code",
   "execution_count": 3,
   "metadata": {},
   "outputs": [],
   "source": [
    "#Making lists of each unique molecule, source and solvent in the dataset\n",
    "\n",
    "molecule_list = data.Molecule.unique()\n",
    "molecule_list_antisolvent = data_antisolvent.Molecule.unique()\n",
    "molecule_list_cooling = data_cooling.Molecule.unique()\n",
    "\n",
    "source_list = data.Source.unique()\n",
    "source_list_antisolvent = data_antisolvent.Source.unique()\n",
    "source_list_cooling = data_cooling.Source.unique()\n",
    "\n",
    "solvent_list= data.solvent.unique()\n",
    "solvent_list_antisolvent = data_antisolvent.solvent.unique()\n",
    "solvent_list_cooling = data_cooling.solvent.unique()"
   ]
  },
  {
   "cell_type": "code",
   "execution_count": 6,
   "metadata": {},
   "outputs": [],
   "source": [
    "method_1, method_2, method_3 = [], [], []\n",
    "score_1, score_2, score_3 = [], [], []\n",
    "slope_1, slope_2, slope_3 = [], [], []\n",
    "intercept_1, intercept_2, intercept_3 = [], [], []\n",
    "molecules_1, molecules_2, molecules_3=[],[],[]\n",
    "sources_1, sources_2 ,sources_3=[],[],[]\n",
    "solvents_1, solvents_2, solvents_3,=[],[],[]\n",
    "\n",
    "for molecule in molecule_list_antisolvent:\n",
    "    data_set=data_antisolvent.loc[data_antisolvent.Molecule == molecule]\n",
    "    Y = np.c_[data_set[\"ln_t_ind\"]]\n",
    "    X = np.c_[data_set[\"ln_S\"]]\n",
    "    model = sklearn.linear_model.LinearRegression()\n",
    "    model.fit(X, Y)\n",
    "    prediction=model.predict(X)\n",
    "    method_1.append(\"antisolvent\")\n",
    "    molecules_1.append(molecule)\n",
    "    score_1.append(r2_score(Y, prediction))\n",
    "    slope_1.append(float(model.coef_))\n",
    "    intercept_1.append(float(model.intercept_))\n",
    "    \n",
    "    Y = np.c_[data_set[\"ln_t_ind\"]]\n",
    "    X = np.c_[data_set[\"ln_(S-1)\"]]\n",
    "    model = sklearn.linear_model.LinearRegression()\n",
    "    model.fit(X, Y)\n",
    "    prediction=model.predict(X)\n",
    "    method_2.append(\"antisolvent\")\n",
    "    molecules_2.append(molecule)\n",
    "    score_2.append(r2_score(Y, prediction))\n",
    "    slope_2.append(float(model.coef_))\n",
    "    intercept_2.append(float(model.intercept_))\n",
    "       \n",
    "    Y = np.c_[data_set[\"ln_t_ind\"]]\n",
    "    X = np.c_[data_set[\"1/S\"]]\n",
    "    model = sklearn.linear_model.LinearRegression()\n",
    "    model.fit(X, Y)\n",
    "    prediction=model.predict(X)\n",
    "    method_3.append(\"antisolvent\")\n",
    "    molecules_3.append(molecule)\n",
    "    score_3.append(r2_score(Y, prediction))\n",
    "    slope_3.append(float(model.coef_))\n",
    "    intercept_3.append(float(model.intercept_))\n",
    "    \n",
    "for molecule in molecule_list_cooling:\n",
    "    data_set=data_cooling.loc[data_cooling.Molecule == molecule]\n",
    "    Y = np.c_[data_set[\"ln_t_ind\"]]\n",
    "    X = np.c_[data_set[\"ln_S\"]]\n",
    "    model = sklearn.linear_model.LinearRegression()\n",
    "    model.fit(X, Y)\n",
    "    prediction=model.predict(X)\n",
    "    method_1.append(\"cooling\")\n",
    "    molecules_1.append(molecule)\n",
    "    score_1.append(r2_score(Y, prediction))\n",
    "    slope_1.append(float(model.coef_))\n",
    "    intercept_1.append(float(model.intercept_))\n",
    "    \n",
    "    Y = np.c_[data_set[\"ln_t_ind\"]]\n",
    "    X = np.c_[data_set[\"ln_(S-1)\"]]\n",
    "    model = sklearn.linear_model.LinearRegression()\n",
    "    model.fit(X, Y)\n",
    "    prediction=model.predict(X)\n",
    "    method_2.append(\"cooling\")\n",
    "    molecules_2.append(molecule)\n",
    "    score_2.append(r2_score(Y, prediction))\n",
    "    slope_2.append(float(model.coef_))\n",
    "    intercept_2.append(float(model.intercept_))\n",
    "       \n",
    "    Y = np.c_[data_set[\"ln_t_ind\"]]\n",
    "    X = np.c_[data_set[\"1/S\"]]\n",
    "    model = sklearn.linear_model.LinearRegression()\n",
    "    model.fit(X, Y)\n",
    "    prediction=model.predict(X)\n",
    "    method_3.append(\"cooling\")\n",
    "    molecules_3.append(molecule)\n",
    "    score_3.append(r2_score(Y, prediction))\n",
    "    slope_3.append(float(model.coef_))\n",
    "    intercept_3.append(float(model.intercept_))\n",
    "    \n",
    "df_1 = pd.DataFrame(list(zip(method_1, molecules_1, slope_1, intercept_1, score_1)) , columns=['method','molecule','slope', 'intercept', 'r2'])\n",
    "df_2 = pd.DataFrame(list(zip(method_2, molecules_2, slope_2, intercept_2, score_2)) , columns=['method','molecule','slope', 'intercept', 'r2'])\n",
    "df_3 = pd.DataFrame(list(zip(method_3, molecules_3, slope_3, intercept_3, score_3)) , columns=['method','molecule','slope', 'intercept', 'r2'])\n"
   ]
  },
  {
   "cell_type": "code",
   "execution_count": null,
   "metadata": {},
   "outputs": [],
   "source": [
    "df=df.loc[df.r2 > 0.6]"
   ]
  },
  {
   "cell_type": "code",
   "execution_count": null,
   "metadata": {},
   "outputs": [],
   "source": [
    "df.head(20)"
   ]
  },
  {
   "cell_type": "code",
   "execution_count": 14,
   "metadata": {},
   "outputs": [
    {
     "ename": "NameError",
     "evalue": "name 'df' is not defined",
     "output_type": "error",
     "traceback": [
      "\u001b[0;31m---------------------------------------------------------------------------\u001b[0m",
      "\u001b[0;31mNameError\u001b[0m                                 Traceback (most recent call last)",
      "\u001b[0;32m<ipython-input-14-feb98a38febb>\u001b[0m in \u001b[0;36m<module>\u001b[0;34m\u001b[0m\n\u001b[0;32m----> 1\u001b[0;31m \u001b[0msns\u001b[0m\u001b[0;34m.\u001b[0m\u001b[0mscatterplot\u001b[0m\u001b[0;34m(\u001b[0m\u001b[0my\u001b[0m\u001b[0;34m=\u001b[0m\u001b[0;34m\"slope\"\u001b[0m\u001b[0;34m,\u001b[0m \u001b[0mx\u001b[0m\u001b[0;34m=\u001b[0m\u001b[0;34m\"intercept\"\u001b[0m\u001b[0;34m,\u001b[0m \u001b[0mdata\u001b[0m\u001b[0;34m=\u001b[0m\u001b[0mdf\u001b[0m\u001b[0;34m,\u001b[0m \u001b[0mhue\u001b[0m\u001b[0;34m=\u001b[0m\u001b[0;34m\"molecule\"\u001b[0m\u001b[0;34m)\u001b[0m\u001b[0;34m\u001b[0m\u001b[0;34m\u001b[0m\u001b[0m\n\u001b[0m\u001b[1;32m      2\u001b[0m \u001b[0mplt\u001b[0m\u001b[0;34m.\u001b[0m\u001b[0mlegend\u001b[0m\u001b[0;34m(\u001b[0m\u001b[0mbbox_to_anchor\u001b[0m\u001b[0;34m=\u001b[0m\u001b[0;34m(\u001b[0m\u001b[0;36m1.05\u001b[0m\u001b[0;34m,\u001b[0m \u001b[0;36m1\u001b[0m\u001b[0;34m)\u001b[0m\u001b[0;34m,\u001b[0m \u001b[0mloc\u001b[0m\u001b[0;34m=\u001b[0m\u001b[0;36m2\u001b[0m\u001b[0;34m,\u001b[0m \u001b[0mborderaxespad\u001b[0m\u001b[0;34m=\u001b[0m\u001b[0;36m0.\u001b[0m\u001b[0;34m)\u001b[0m\u001b[0;34m\u001b[0m\u001b[0;34m\u001b[0m\u001b[0m\n",
      "\u001b[0;31mNameError\u001b[0m: name 'df' is not defined"
     ]
    }
   ],
   "source": [
    "sns.scatterplot(y=\"slope\", x=\"intercept\", data=df, hue=\"molecule\")\n",
    "plt.legend(bbox_to_anchor=(1.05, 1), loc=2, borderaxespad=0.)"
   ]
  },
  {
   "cell_type": "code",
   "execution_count": null,
   "metadata": {},
   "outputs": [],
   "source": [
    "df.info()"
   ]
  },
  {
   "cell_type": "code",
   "execution_count": null,
   "metadata": {},
   "outputs": [],
   "source": [
    "df.plot(kind= 'scatter', x=\"slope\", y = \"intercept\",c=\"r2\", colorbar=True, alpha = 0.9, cmap=plt.get_cmap(\"jet\"), figsize=(10,5))\n",
    "plt.ylabel(\"slope\")\n",
    "plt.xlabel(\"y-intercept\")\n",
    "plt.tight_layout()"
   ]
  },
  {
   "cell_type": "code",
   "execution_count": null,
   "metadata": {},
   "outputs": [],
   "source": [
    "df.to_csv(\"/Users/iainquinn/Crystalisation Internship/Data/new_data.csv\")"
   ]
  },
  {
   "cell_type": "code",
   "execution_count": null,
   "metadata": {},
   "outputs": [],
   "source": [
    "newdf = pd.read_csv(\"/Users/iainquinn/Crystalisation Internship/Data/new_data.csv\")"
   ]
  },
  {
   "cell_type": "code",
   "execution_count": null,
   "metadata": {},
   "outputs": [],
   "source": [
    "newdf.head()"
   ]
  },
  {
   "cell_type": "code",
   "execution_count": null,
   "metadata": {},
   "outputs": [],
   "source": [
    "sns.scatterplot(y=\"slope\", x=\"weight\", data=newdf, hue=\"molecule\")\n",
    "plt.legend(bbox_to_anchor=(1.05, 1), loc=2, borderaxespad=0.)"
   ]
  },
  {
   "cell_type": "code",
   "execution_count": null,
   "metadata": {},
   "outputs": [],
   "source": [
    "newdf.info()"
   ]
  },
  {
   "cell_type": "code",
   "execution_count": null,
   "metadata": {},
   "outputs": [],
   "source": [
    "newdf.weight.value_counts()"
   ]
  },
  {
   "cell_type": "code",
   "execution_count": null,
   "metadata": {},
   "outputs": [],
   "source": []
  },
  {
   "cell_type": "code",
   "execution_count": null,
   "metadata": {},
   "outputs": [],
   "source": []
  }
 ],
 "metadata": {
  "kernelspec": {
   "display_name": "Python 3",
   "language": "python",
   "name": "python3"
  },
  "language_info": {
   "codemirror_mode": {
    "name": "ipython",
    "version": 3
   },
   "file_extension": ".py",
   "mimetype": "text/x-python",
   "name": "python",
   "nbconvert_exporter": "python",
   "pygments_lexer": "ipython3",
   "version": "3.7.4"
  }
 },
 "nbformat": 4,
 "nbformat_minor": 2
}
